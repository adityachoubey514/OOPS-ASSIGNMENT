{
  "nbformat": 4,
  "nbformat_minor": 0,
  "metadata": {
    "colab": {
      "provenance": []
    },
    "kernelspec": {
      "name": "python3",
      "display_name": "Python 3"
    },
    "language_info": {
      "name": "python"
    }
  },
  "cells": [
    {
      "cell_type": "markdown",
      "source": [
        "#****THEORY QUESTION'S****"
      ],
      "metadata": {
        "id": "R5yyEl3yfUyr"
      }
    },
    {
      "cell_type": "markdown",
      "source": [
        "#1. what is object-oriented programming (OOP)?\n",
        "->\n",
        "Object-Oriented programming (OOP) is a way o programming whre you focus on \"objects\"-bundles of data and actions. key concepts include **abstraction** (hiding complexity), **encapsulation** (protecting data ), **inheritance** (sharing traits among classes), and **polymorphism** (using one interface for implementations). It simplifies software design, making it modular and reusable."
      ],
      "metadata": {
        "id": "EZJbbjOrfwif"
      }
    },
    {
      "cell_type": "markdown",
      "source": [
        "#2. What is an class in OOP?\n",
        "->\n",
        "**A class** in Object-Oriented programming (OOP) is a blueprint for creating objects. It defines the structure (attributes) and behavior (methods) that objects will have, making it easier to organize and reuse code."
      ],
      "metadata": {
        "id": "NAJB1vk4pK1t"
      }
    },
    {
      "cell_type": "markdown",
      "source": [
        "#3. What is a Object in OOP?\n",
        "->\n",
        "An **object** in Object-Orirnted progrmming (OOP) is an instance of a class. It's a specific entity with attributes (data) and methods (actions) that represent real-world scenarios making code more dynamic and reusable.\n"
      ],
      "metadata": {
        "id": "OZRw1_gikgPF"
      }
    },
    {
      "cell_type": "markdown",
      "source": [
        "#4. What is the difference between abstraction and encapsulation?\n",
        "->\n",
        "Abstraction and encapsulation are two fundamental concepts in object-Oriented programming (OOP), and they serve distinct purposes.\n",
        "\n",
        "1. **Abstraction** : It focuses on hiding the complexity of a system by exposing only the necessary parts. It allows developers to define methods and functionality without needing to show the internal implementation details. Abstraction simplifies the interaction between the user and the system.\n",
        "\n",
        "2. **Encapsulation** : It is about bundling the date and methods that operate on the data into one unit(a class) While restricting direct acces to some of the object's components Encapsulation ensures controlled acces to an object's data using access modifiers like private or protected."
      ],
      "metadata": {
        "id": "7YOv_IVEl49W"
      }
    },
    {
      "cell_type": "markdown",
      "source": [
        "#5. What are dunder methods in Python?\n",
        "->\n",
        "**Dunder methods** in Python, also called magic methods, are special methods with double underscores (e.g., `__init__`, `__str__`, `__add__`). They let you customize an object's behavior, like how it initializes, represents itself, or interacts with operators.\n"
      ],
      "metadata": {
        "id": "hzoae3fSp59Z"
      }
    },
    {
      "cell_type": "markdown",
      "source": [
        "#6. Explain the concept of inheritance in OOP?\n",
        "->\n",
        "**Inheritance** in Object-Oriented Programming (OOP) allows a child class to use and extend the properties and methods of a parent class, promoting code reuse and a structured hierarchy. For example, a `Dog` class can inherit common traits from an `Animal` class, while adding unique features like `bark()`."
      ],
      "metadata": {
        "id": "GEiwKxussu-4"
      }
    },
    {
      "cell_type": "markdown",
      "source": [
        "#7. What is polymorphism in OOP?\n",
        "->\n",
        "**Polymorphism** in Object-Oriented Programming (OOP) is the ability of different objects to be treated as instances of the same class through a shared interface. It enables methods to have the same name but behave differently based on the object that calls them.\n",
        "\n",
        "For example:\n",
        "- A parent class `Instrument` might have a method `play()`.\n",
        "- Child classes like `Guitar` and `Piano` can override the `play()` method to produce instrument-specific behavior, such as \"strumming\" for the guitar or \"key pressing\" for the piano.\n"
      ],
      "metadata": {
        "id": "HlVNA_6gs9-1"
      }
    },
    {
      "cell_type": "markdown",
      "source": [
        "#8. How is encapsulation achieved in Python?\\\n",
        "->\n",
        "In Python, **encapsulation** is achieved by bundling attributes and methods in classes and controlling access using:\n",
        "- Access modifiers: Public, protected (`_`), or private (`__`).\n",
        "- Getter and setter methods for secure interaction with private attributes."
      ],
      "metadata": {
        "id": "KI2hfx6utazy"
      }
    },
    {
      "cell_type": "markdown",
      "source": [
        "#9. What is a constructor in Python?\n",
        "->\n",
        "In Python, a **constructor** is a special method used to initialize objects when they are created. It is defined using the `__init__` method in a class. The constructor allows you to assign initial values to the attributes of an object and set up any required state.\n",
        "\n",
        "For example:\n",
        "\n",
        "```python\n",
        "class Person:\n",
        "    def __init__(self, name, age):\n",
        "        self.name = name\n",
        "        self.age = age\n",
        "\n",
        "# Creating an object\n",
        "person = Person(\"Aditya\", 30)\n",
        "```\n",
        "\n",
        "Here, the `__init__` method automatically initializes the `name` and `age` attributes for the `Person` object. Constructors ensure that objects are properly set up and ready to use from the moment they're created."
      ],
      "metadata": {
        "id": "a3Cv9w8Ztlah"
      }
    },
    {
      "cell_type": "markdown",
      "source": [
        "#10. What are class and static methods in Python?\n",
        "->\n",
        "Class and static methods in Python are used to define behaviors that are associated with a class itself, rather than with individual objects created from the class:\n",
        "\n",
        "1. **Class Methods**:\n",
        "   - Defined using the `@classmethod` decorator.\n",
        "   - They take the class as their first argument, conventionally named `cls`.\n",
        "   - Used to perform operations that involve the class itself, like modifying class-level attributes or creating instances in a specific way.\n",
        "\n",
        "   Example:\n",
        "   ```python\n",
        "   class Person:\n",
        "       count = 0\n",
        "       def __init__(self, name):\n",
        "           self.name = name\n",
        "           Person.count += 1\n",
        "       \n",
        "       @classmethod\n",
        "       def get_person_count(cls):\n",
        "           return cls.count\n",
        "   ```\n",
        "\n",
        "2. **Static Methods**:\n",
        "   - Defined using the `@staticmethod` decorator.\n",
        "   - They do not take `self` or `cls` as their first argument.\n",
        "   - Used for operations that don't depend on instance or class attributes and are just associated with the class for logical grouping.\n",
        "\n",
        "   Example:\n",
        "   ```python\n",
        "   class MathOperations:\n",
        "       @staticmethod\n",
        "       def add_numbers(a, b):\n",
        "           return a + b\n",
        "   ```\n",
        "\n"
      ],
      "metadata": {
        "id": "12qCuGNHt7n4"
      }
    },
    {
      "cell_type": "markdown",
      "source": [
        "#11. What is method overloading in Python?\n",
        "->\n",
        "In Python, method overloading isn't natively supported like in some other languages. Instead, you can achieve similar functionality using default arguments or `*args` and `**kwargs` to manage varying numbers or types of arguments in a single method."
      ],
      "metadata": {
        "id": "N_LPRbaouhV-"
      }
    },
    {
      "cell_type": "markdown",
      "source": [
        "#12. What is method overriding in OOP?\n",
        "->\n",
        "Method overriding in OOP allows a subclass to redefine a method from its parent class to provide specific behavior. It enables runtime polymorphism, where the method executed depends on the object's type."
      ],
      "metadata": {
        "id": "M8GGJtC7vqCF"
      }
    },
    {
      "cell_type": "markdown",
      "source": [
        "#13. What is a property decorator in Python?\n",
        "->\n",
        "A property decorator in Python, denoted by `@property`, is used to define methods in a class as properties. This allows you to access them like attributes, without needing parentheses. It provides a clean and intuitive way to implement getter methods.\n",
        "\n",
        "For example, you can use the property decorator to define a method for retrieving an attribute's value, and combine it with `@method_name.setter` to create a setter method for modifying the attribute's value. This ensures controlled access and encapsulation in your class design."
      ],
      "metadata": {
        "id": "7GV6lzLuv6fC"
      }
    },
    {
      "cell_type": "markdown",
      "source": [
        "#14. Why is polymorphism important in OOP?\n",
        "->\n",
        "Polymorphism is important in Object-Oriented Programming (OOP) because it allows methods to perform differently based on the object calling them. This flexibility enhances code reusability and maintainability. Developers can write code that's more generalized and applicable to various types of objects, enabling cleaner and more dynamic designs. It also supports runtime polymorphism, letting the most specific method implementation be executed during program execution.\n"
      ],
      "metadata": {
        "id": "Gd4T6nNdwFTp"
      }
    },
    {
      "cell_type": "markdown",
      "source": [
        "#15. What is an abstract class in Python?\n",
        "->\n",
        "An abstract class in Python serves as a blueprint for other classes. It is defined using the `ABC` module from the `abc` library and can include abstract methods, which are methods declared but not implemented. Subclasses of an abstract class must implement these abstract methods. This enforces a specific structure or behavior in the derived classes, ensuring consistency. Abstract classes cannot be instantiated directly—they are meant to be inherited and provide a foundation for subclass design."
      ],
      "metadata": {
        "id": "4FB9Kl2mwTD2"
      }
    },
    {
      "cell_type": "markdown",
      "source": [
        "#16. What are the advantages of OOP?\n",
        "->\n",
        "The advantages of Object-Oriented Programming (OOP) are:\n",
        "\n",
        "1. **Encapsulation**: Protects data and combines it with relevant methods.\n",
        "2. **Inheritance**: Reuses and reduces redundant code.\n",
        "3. **Polymorphism**: Enables flexibility in method behavior.\n",
        "4. **Modularity**: Simplifies code organization and debugging.\n",
        "5. **Abstraction**: Focuses on essential features, hiding complexities.\n",
        "6. **Easier Maintenance**: Makes updates straightforward due to its structured approach.\n",
        "\n"
      ],
      "metadata": {
        "id": "0Ls3dtZuwdbN"
      }
    },
    {
      "cell_type": "markdown",
      "source": [
        "#17. What is the difference between a class variable and an instance variable?\n",
        "->\n",
        "Based on the surrounding page content, the difference between a class variable and an instance variable can be summarized as follows:\n",
        "\n",
        "1. **Class Variable**:\n",
        "   - Shared across all instances of a class.\n",
        "   - Defined within the class but outside any instance methods.\n",
        "   - Any change made to a class variable is reflected in all instances of the class.\n",
        "\n",
        "2. **Instance Variable**:\n",
        "   - Unique to each instance of a class.\n",
        "   - Defined within instance methods, often initialized using the `__init__` method.\n",
        "   - Changes to instance variables affect only the specific instance, not others.\n"
      ],
      "metadata": {
        "id": "E5Gvn5p5yGhf"
      }
    },
    {
      "cell_type": "markdown",
      "source": [
        "#18. What is multiple inheritance in Python?\n",
        "->\n",
        "In Python, **multiple inheritance** allows a class to inherit from more than one parent class. This provides flexibility to combine functionalities from multiple classes. However, it can introduce complexities like method conflicts or ambiguity when parent classes have overlapping attributes or methods."
      ],
      "metadata": {
        "id": "koe1MGRIyTa7"
      }
    },
    {
      "cell_type": "markdown",
      "source": [
        "#19. Explain the purpose of ‘’__str__’ and ‘__repr__’ ‘ methods in Python?\n",
        "->\n",
        "The `__str__` and `__repr__` methods in Python serve different purposes related to string representations of objects:\n",
        "\n",
        "1. **`__str__` Method**:\n",
        "   - Provides a user-friendly, readable representation of an object.\n",
        "   - Used mainly for displaying information to end users.\n",
        "   - Called by the built-in `str()` function and `print()` statements.\n",
        "\n",
        "2. **`__repr__` Method**:\n",
        "   - Offers a detailed, unambiguous string representation of an object.\n",
        "   - Primarily intended for developers to understand the internal state of the object.\n",
        "   - Called by the built-in `repr()` function and in Python's interactive mode.\n"
      ],
      "metadata": {
        "id": "-AxQM3vZyelk"
      }
    },
    {
      "cell_type": "markdown",
      "source": [
        "#20. What is the significance of the ‘super()’ function in Python?\n",
        "->\n",
        "Based on the surrounding page content, the `super()` function in Python holds significant importance in inheritance. It allows a child class to access and invoke methods or constructors of its parent class without explicitly referencing the parent class name. This simplifies code reuse, supports cleaner method resolution order (MRO) in multiple inheritance, and maintains a structured hierarchy when working with objects in Object-Oriented Programming."
      ],
      "metadata": {
        "id": "a-zYIkm-y3Qu"
      }
    },
    {
      "cell_type": "markdown",
      "source": [
        "#21. What is the significance of the __del__ method in Python?\n",
        "->\n",
        "The `__del__` method in Python is a destructor that's used for resource cleanup when an object is about to be destroyed. However, it’s generally better to use context managers (like `with` statements) for managing resources explicitly."
      ],
      "metadata": {
        "id": "aTRcSiVezFVs"
      }
    },
    {
      "cell_type": "markdown",
      "source": [
        "#22. What is the difference between @staticmethod and @classmethod in Python?\n",
        "->\n",
        "In Python, the difference between `@staticmethod` and `@classmethod` lies in how they access class-level information and their use cases:\n",
        "\n",
        "1. **`@staticmethod`:**\n",
        "   - It is a method that doesn't take the instance (`self`) or the class (`cls`) as an argument.\n",
        "   - It works like a regular function defined inside a class but is associated with the class for organizational purposes.\n",
        "   - It cannot access or modify class-level attributes or instance-specific data.\n",
        "   - Ideal for utility functions or methods that do not depend on the class or instance data.\n",
        "\n",
        "2. **`@classmethod`:**\n",
        "   - It takes the class itself (`cls`) as its first argument.\n",
        "   - It can access and modify class-level attributes and work with the class itself, making it suitable for factory methods or alternative constructors.\n",
        "   - Useful when behavior is tied to the class rather than its instances."
      ],
      "metadata": {
        "id": "mSLluk2O0RvC"
      }
    },
    {
      "cell_type": "markdown",
      "source": [
        "#23. How does polymorphism work in Python with inheritance?\n",
        "->\n",
        "Polymorphism in Python with inheritance allows child classes to override parent class methods, enabling a single method name to perform different behaviors depending on the object calling it. This supports flexibility and reusability in object-oriented programming."
      ],
      "metadata": {
        "id": "sngIUYW30i39"
      }
    },
    {
      "cell_type": "markdown",
      "source": [
        "#24. What is method chaining in Python OOP?\n",
        "->\n",
        "Method chaining in Python OOP refers to the practice of calling multiple methods on the same object in a single statement. This is achieved by designing methods to return the object itself (`self`) at the end of their execution. It allows for cleaner and more readable code, as multiple operations can be performed in a sequential and compact manner.\n",
        "\n",
        "For example, you can write something like:\n",
        "\n",
        "```python\n",
        "object.method1().method2().method3()\n",
        "```\n",
        "\n"
      ],
      "metadata": {
        "id": "iaGN0w8e0r0q"
      }
    },
    {
      "cell_type": "markdown",
      "source": [
        "#25. What is the purpose of the __call__ method in Python?\n",
        "->\n",
        "The `__call__` method in Python is a special dunder method that allows an instance of a class to be called as if it were a function. By defining the `__call__` method in a class, you can execute code using the class instance directly, without having to call a specific method. This can be useful for creating callable objects, simplifying syntax, or encapsulating functionality within object."
      ],
      "metadata": {
        "id": "MmsAsi3i1eU2"
      }
    },
    {
      "cell_type": "markdown",
      "source": [
        "#****PRACTICAL QUESTION'S****"
      ],
      "metadata": {
        "id": "UkvyM4-B2HP8"
      }
    },
    {
      "cell_type": "code",
      "source": [
        "'''!.Create a parent class Animal with a method speak() that prints a generic message. Create a child class Dog\n",
        "that overrides the speak() method to print \"Bark!\".\n",
        "->'''\n",
        "# Parent class\n",
        "class Animal:\n",
        "    def speak(self):\n",
        "        print(\"This is a generic animal sound.\")\n",
        "\n",
        "# Child class\n",
        "class Dog(Animal):\n",
        "    def speak(self):\n",
        "        print(\"Bark!\")\n",
        "\n",
        "# Create objects\n",
        "generic_animal = Animal()\n",
        "dog = Dog()\n",
        "\n",
        "# Call speak() method\n",
        "generic_animal.speak()\n",
        "dog.speak()"
      ],
      "metadata": {
        "colab": {
          "base_uri": "https://localhost:8080/"
        },
        "id": "_GXbMIaKCjul",
        "outputId": "15da43a6-d439-4d0e-d7e6-ad99153ee777"
      },
      "execution_count": null,
      "outputs": [
        {
          "output_type": "stream",
          "name": "stdout",
          "text": [
            "This is a generic animal sound.\n",
            "Bark!\n"
          ]
        }
      ]
    },
    {
      "cell_type": "code",
      "source": [
        "'''2. Write a program to create an abstract class Shape with a method area(). Derive classes Circle and Rectangle\n",
        "from it and implement the area() method in both.\n",
        "->'''\n",
        "from abc import ABC, abstractmethod\n",
        "\n",
        "# Abstract class\n",
        "class Shape(ABC):\n",
        "    @abstractmethod\n",
        "    def area(self):\n",
        "        pass  # Abstract method, no implementation\n",
        "\n",
        "# Derived class for Circle\n",
        "class Circle(Shape):\n",
        "    def __init__(self, radius):\n",
        "        self.radius = radius\n",
        "\n",
        "    def area(self):\n",
        "        return 3.14159 * (self.radius ** 2)  # Area of circle: πr²\n",
        "\n",
        "# Derived class for Rectangle\n",
        "class Rectangle(Shape):\n",
        "    def __init__(self, width, height):\n",
        "        self.width = width\n",
        "        self.height = height\n",
        "\n",
        "    def area(self):\n",
        "        return self.width * self.height  # Area of rectangle: width * height\n",
        "\n",
        "# Example usage\n",
        "circle = Circle(5)\n",
        "rectangle = Rectangle(4, 6)\n",
        "\n",
        "print(f\"Area of Circle: {circle.area()}\")\n",
        "print(f\"Area of Rectangle: {rectangle.area()}\")\n"
      ],
      "metadata": {
        "colab": {
          "base_uri": "https://localhost:8080/"
        },
        "id": "whqPJv4CC_Sg",
        "outputId": "5b0e1fe0-81a3-4c6a-fcf9-ce07ddbcc716"
      },
      "execution_count": null,
      "outputs": [
        {
          "output_type": "stream",
          "name": "stdout",
          "text": [
            "Area of Circle: 78.53975\n",
            "Area of Rectangle: 24\n"
          ]
        }
      ]
    },
    {
      "cell_type": "code",
      "source": [
        "'''3. Implement a multi-level inheritance scenario where a class Vehicle has an attribute type. Derive a class Car\n",
        "and further derive a class ElectricCar that adds a battery attribute.\n",
        "->'''\n",
        "# Base class\n",
        "class Vehicle:\n",
        "    def __init__(self, vehicle_type):\n",
        "        self.vehicle_type = vehicle_type\n",
        "\n",
        "    def display_type(self):\n",
        "        print(f\"Vehicle Type: {self.vehicle_type}\")\n",
        "\n",
        "# Derived class\n",
        "class Car(Vehicle):\n",
        "    def __init__(self, vehicle_type, brand):\n",
        "        super().__init__(vehicle_type)\n",
        "        self.brand = brand\n",
        "\n",
        "    def display_brand(self):\n",
        "        print(f\"Car Brand: {self.brand}\")\n",
        "\n",
        "# Further derived class\n",
        "class ElectricCar(Car):\n",
        "    def __init__(self, vehicle_type, brand, battery_capacity):\n",
        "        super().__init__(vehicle_type, brand)\n",
        "        self.battery_capacity = battery_capacity\n",
        "\n",
        "    def display_battery(self):\n",
        "        print(f\"Battery Capacity: {self.battery_capacity} kWh\")\n",
        "\n",
        "# Example usage\n",
        "my_vehicle = Vehicle(\"General Vehicle\")\n",
        "my_vehicle.display_type()\n",
        "\n",
        "my_car = Car(\"Car\", \"Toyota\")\n",
        "my_car.display_type()\n",
        "my_car.display_brand()\n",
        "\n",
        "my_electric_car = ElectricCar(\"Electric Car\", \"Tesla\", 75)\n",
        "my_electric_car.display_type()\n",
        "my_electric_car.display_brand()\n",
        "my_electric_car.display_battery()\n"
      ],
      "metadata": {
        "colab": {
          "base_uri": "https://localhost:8080/"
        },
        "id": "xUtmSJPfDvLX",
        "outputId": "dd32279e-2624-41d1-e55d-b3f32e5ec8e4"
      },
      "execution_count": null,
      "outputs": [
        {
          "output_type": "stream",
          "name": "stdout",
          "text": [
            "Vehicle Type: General Vehicle\n",
            "Vehicle Type: Car\n",
            "Car Brand: Toyota\n",
            "Vehicle Type: Electric Car\n",
            "Car Brand: Tesla\n",
            "Battery Capacity: 75 kWh\n"
          ]
        }
      ]
    },
    {
      "cell_type": "code",
      "source": [
        "'''4. Write a program to demonstrate encapsulation by creating a class BankAccount with private attributes\n",
        "balance and methods to deposit, withdraw, and check balance.\n",
        "->'''\n",
        "class BankAccount:\n",
        "    def __init__(self, initial_balance):\n",
        "        self.__balance = initial_balance  # Private attribute\n",
        "\n",
        "    # Method to deposit money\n",
        "    def deposit(self, amount):\n",
        "        if amount > 0:\n",
        "            self.__balance += amount\n",
        "            print(f\"Deposited: {amount}\")\n",
        "        else:\n",
        "            print(\"Deposit amount must be positive.\")\n",
        "\n",
        "    # Method to withdraw money\n",
        "    def withdraw(self, amount):\n",
        "        if 0 < amount <= self.__balance:\n",
        "            self.__balance -= amount\n",
        "            print(f\"Withdrawn: {amount}\")\n",
        "        else:\n",
        "            print(\"Insufficient balance or invalid amount.\")\n",
        "\n",
        "    # Method to check balance\n",
        "    def check_balance(self):\n",
        "        print(f\"Current Balance: {self.__balance}\")\n",
        "\n",
        "# Example usage\n",
        "account = BankAccount(1000)\n",
        "account.check_balance()\n",
        "\n",
        "account.deposit(500)\n",
        "account.check_balance()\n",
        "\n",
        "account.withdraw(300)\n",
        "account.check_balance()\n",
        "\n",
        "account.withdraw(2000)"
      ],
      "metadata": {
        "colab": {
          "base_uri": "https://localhost:8080/"
        },
        "id": "CUsf25o-EafK",
        "outputId": "18c267ce-07c3-42ec-8963-09dfba391a4c"
      },
      "execution_count": null,
      "outputs": [
        {
          "output_type": "stream",
          "name": "stdout",
          "text": [
            "Current Balance: 1000\n",
            "Deposited: 500\n",
            "Current Balance: 1500\n",
            "Withdrawn: 300\n",
            "Current Balance: 1200\n",
            "Insufficient balance or invalid amount.\n"
          ]
        }
      ]
    },
    {
      "cell_type": "code",
      "source": [
        "'''5. Demonstrate runtime polymorphism using a method play() in a base class Instrument. Derive classes Guitar\n",
        "and Piano that implement their own version of play().\n",
        "->'''\n",
        "# Base class\n",
        "class Instrument:\n",
        "    def play(self):\n",
        "        print(\"Playing an instrument.\")\n",
        "\n",
        "# Derived class\n",
        "class Guitar(Instrument):\n",
        "    def play(self):\n",
        "        print(\"Strumming the guitar.\")\n",
        "\n",
        "# Another derived class\n",
        "class Piano(Instrument):\n",
        "    def play(self):\n",
        "        print(\"Playing the piano.\")\n",
        "\n",
        "# Function to demonstrate runtime polymorphism\n",
        "def play_instrument(instrument):\n",
        "    instrument.play()\n",
        "\n",
        "# Example usage\n",
        "instrument = Instrument()\n",
        "guitar = Guitar()\n",
        "piano = Piano()\n",
        "\n",
        "play_instrument(instrument)  # Call the function with different instrument objects\n",
        "play_instrument(guitar)\n",
        "play_instrument(piano)"
      ],
      "metadata": {
        "colab": {
          "base_uri": "https://localhost:8080/"
        },
        "id": "vkLRPgLpGDwR",
        "outputId": "2f5319d0-8d6c-47c0-d0b4-f2e33413d4f1"
      },
      "execution_count": null,
      "outputs": [
        {
          "output_type": "stream",
          "name": "stdout",
          "text": [
            "Playing an instrument.\n",
            "Strumming the guitar.\n",
            "Playing the piano.\n"
          ]
        }
      ]
    },
    {
      "cell_type": "code",
      "source": [
        "\"\"\"6. Create a class MathOperations with a class method add_numbers() to add two numbers and a static\n",
        "method subtract_numbers() to subtract two numbers\n",
        "->\"\"\"\n",
        "class MathOperations:\n",
        "    # Class method to add two numbers\n",
        "    @classmethod\n",
        "    def add_numbers(cls, num1, num2):\n",
        "        return num1 + num2\n",
        "\n",
        "    # Static method to subtract two numbers\n",
        "    @staticmethod\n",
        "    def subtract_numbers(num1, num2):\n",
        "        return num1 - num2\n",
        "\n",
        "# Example usage\n",
        "result_addition = MathOperations.add_numbers(10, 5)\n",
        "print(f\"Addition Result: {result_addition}\")\n",
        "\n",
        "result_subtraction = MathOperations.subtract_numbers(10, 5)\n",
        "print(f\"Subtraction Result: {result_subtraction}\")\n"
      ],
      "metadata": {
        "colab": {
          "base_uri": "https://localhost:8080/"
        },
        "id": "e1FqPkTIHFKT",
        "outputId": "98dde488-6f78-4475-fd3f-65d0070f7cce"
      },
      "execution_count": null,
      "outputs": [
        {
          "output_type": "stream",
          "name": "stdout",
          "text": [
            "Addition Result: 15\n",
            "Subtraction Result: 5\n"
          ]
        }
      ]
    },
    {
      "cell_type": "code",
      "source": [
        "'''7. Implement a class Person with a class method to count the total number of persons created.\n",
        "->'''\n",
        "class Person:\n",
        "    # Class variable to keep track of the count\n",
        "    total_persons = 0\n",
        "\n",
        "    def __init__(self, name):\n",
        "        self.name = name\n",
        "        # Increment the count whenever a new instance is created\n",
        "        Person.total_persons += 1\n",
        "\n",
        "    @classmethod\n",
        "    def get_total_persons(cls):\n",
        "        return cls.total_persons\n",
        "\n",
        "# Example usage\n",
        "person1 = Person(\"Adie\")\n",
        "person2 = Person(\"ayush\")\n",
        "person3 = Person(\"deepak\")\n",
        "\n",
        "print(f\"Total Persons Created: {Person.get_total_persons()}\")\n"
      ],
      "metadata": {
        "colab": {
          "base_uri": "https://localhost:8080/"
        },
        "id": "MOt2nMz4HmYv",
        "outputId": "2ae8db88-edda-4380-8f70-f8e9d81861b9"
      },
      "execution_count": null,
      "outputs": [
        {
          "output_type": "stream",
          "name": "stdout",
          "text": [
            "Total Persons Created: 3\n"
          ]
        }
      ]
    },
    {
      "cell_type": "code",
      "source": [
        "'''8. Write a class Fraction with attributes numerator and denominator. Override the str method to display the\n",
        "fraction as \"numerator/denominator\".\n",
        "->'''\n",
        "class Fraction:\n",
        "    def __init__(self, numerator, denominator):\n",
        "        self.numerator = numerator\n",
        "        self.denominator = denominator\n",
        "\n",
        "    def __str__(self):\n",
        "        return f\"{self.numerator}/{self.denominator}\"\n",
        "f = Fraction(2, 8)\n",
        "print(f)\n"
      ],
      "metadata": {
        "colab": {
          "base_uri": "https://localhost:8080/"
        },
        "id": "t72M8gY-IltG",
        "outputId": "1e472963-2bc7-4318-a6c8-04205bde0a34"
      },
      "execution_count": null,
      "outputs": [
        {
          "output_type": "stream",
          "name": "stdout",
          "text": [
            "2/8\n"
          ]
        }
      ]
    },
    {
      "cell_type": "code",
      "source": [
        "'''9. Demonstrate operator overloading by creating a class Vector and overriding the add method to add two\n",
        "vectors.\n",
        "->'''\n",
        "class Vector:\n",
        "    def __init__(self, x, y):\n",
        "        self.x = x\n",
        "        self.y = y\n",
        "\n",
        "    def __add__(self, other):\n",
        "        return Vector(self.x + other.x, self.y + other.y)\n",
        "\n",
        "    def __str__(self):\n",
        "        return f\"Vector({self.x}, {self.y})\"\n",
        "\n",
        "# Demonstration\n",
        "v1 = Vector(2, 3)\n",
        "v2 = Vector(4, 5)\n",
        "v3 = v1 + v2  # Uses the overloaded + operator\n",
        "print(v3)\n"
      ],
      "metadata": {
        "colab": {
          "base_uri": "https://localhost:8080/"
        },
        "id": "HamgVFi_JqQ1",
        "outputId": "80fe5079-789f-424c-9ad9-73e4a5bb380b"
      },
      "execution_count": null,
      "outputs": [
        {
          "output_type": "stream",
          "name": "stdout",
          "text": [
            "Vector(6, 8)\n"
          ]
        }
      ]
    },
    {
      "cell_type": "code",
      "source": [
        "'''10. Create a class Person with attributes name and age. Add a method greet() that prints \"Hello, my name is\n",
        "{name} and I am {age} years old.\n",
        "->'''\n",
        "class Person:\n",
        "    def __init__(self, name, age):\n",
        "        self.name = name\n",
        "        self.age = age\n",
        "\n",
        "    def greet(self):\n",
        "        print(f\"Hello, my name is {self.name} and I am {self.age} years old.\")\n",
        "\n",
        "# Demonstration\n",
        "person1 = Person(\"Aditya\", 19)\n",
        "person1.greet()\n"
      ],
      "metadata": {
        "colab": {
          "base_uri": "https://localhost:8080/"
        },
        "id": "5kaL3I1SJ6aP",
        "outputId": "5abfd320-1460-48ec-9425-15a68036e864"
      },
      "execution_count": null,
      "outputs": [
        {
          "output_type": "stream",
          "name": "stdout",
          "text": [
            "Hello, my name is Aditya and I am 19 years old.\n"
          ]
        }
      ]
    },
    {
      "cell_type": "code",
      "source": [
        "'''11. Implement a class Student with attributes name and grades. Create a method average_grade() to compute\n",
        "the average of the grades.\n",
        "->'''\n",
        "class Student:\n",
        "    def __init__(self, name, grades):\n",
        "        self.name = name\n",
        "        self.grades = grades\n",
        "\n",
        "    def average_grade(self):\n",
        "        return sum(self.grades) / len(self.grades)\n",
        "\n",
        "# Demonstration\n",
        "student1 = Student(\"Aditya\", [85, 90, 78, 92])\n",
        "print(f\"{student1.name}'s average grade: {student1.average_grade()}\")\n"
      ],
      "metadata": {
        "colab": {
          "base_uri": "https://localhost:8080/"
        },
        "id": "cDFWaGwBKOc7",
        "outputId": "40a960a0-747d-4221-8e36-64d88dfa2cbc"
      },
      "execution_count": null,
      "outputs": [
        {
          "output_type": "stream",
          "name": "stdout",
          "text": [
            "Aditya's average grade: 86.25\n"
          ]
        }
      ]
    },
    {
      "cell_type": "code",
      "source": [
        "''' 12. Create a class Rectangle with methods set_dimensions() to set the dimensions and area() to calculate the\n",
        "area\n",
        "->'''\n",
        "class Rectangle:\n",
        "    def __init__(self):\n",
        "        self.length = 0\n",
        "        self.breadth = 0\n",
        "\n",
        "    def set_dimensions(self, length, breadth):\n",
        "        self.length = length\n",
        "        self.breadth = breadth\n",
        "\n",
        "    def area(self):\n",
        "        return self.length * self.breadth\n",
        "\n",
        "# Demonstration\n",
        "rect = Rectangle()\n",
        "rect.set_dimensions(5, 10)\n",
        "print(f\"Area of the rectangle: {rect.area()}\")\n"
      ],
      "metadata": {
        "colab": {
          "base_uri": "https://localhost:8080/"
        },
        "id": "g3ZI2IXTKhPX",
        "outputId": "06e18a15-2561-4a58-bbd1-542dec9f90f2"
      },
      "execution_count": null,
      "outputs": [
        {
          "output_type": "stream",
          "name": "stdout",
          "text": [
            "Area of the rectangle: 50\n"
          ]
        }
      ]
    },
    {
      "cell_type": "code",
      "source": [
        "'''13. Create a class Employee with a method calculate_salary() that computes the salary based on hours worked\n",
        "and hourly rate. Create a derived class Manager that adds a bonus to the salary.\n",
        "->'''\n",
        "class Employee:\n",
        "    def __init__(self, hours_worked, hourly_rate):\n",
        "        self.hours_worked = hours_worked\n",
        "        self.hourly_rate = hourly_rate\n",
        "\n",
        "    def calculate_salary(self):\n",
        "        return self.hours_worked * self.hourly_rate\n",
        "\n",
        "class Manager(Employee):\n",
        "    def __init__(self, hours_worked, hourly_rate, bonus):\n",
        "        super().__init__(hours_worked, hourly_rate)\n",
        "        self.bonus = bonus\n",
        "\n",
        "    def calculate_salary(self):\n",
        "        base_salary = super().calculate_salary()\n",
        "        return base_salary + self.bonus\n",
        "\n",
        "# Example usage\n",
        "employee = Employee(40, 20)\n",
        "print(f\"Employee Salary: {employee.calculate_salary()}\")\n",
        "\n",
        "manager = Manager(40, 20, 500)\n",
        "print(f\"Manager Salary: {manager.calculate_salary()}\")\n"
      ],
      "metadata": {
        "colab": {
          "base_uri": "https://localhost:8080/"
        },
        "id": "j3GSATVqKtBV",
        "outputId": "1be8e925-bcc6-4b62-9a31-a52d395c11ed"
      },
      "execution_count": null,
      "outputs": [
        {
          "output_type": "stream",
          "name": "stdout",
          "text": [
            "Employee Salary: 800\n",
            "Manager Salary: 1300\n"
          ]
        }
      ]
    },
    {
      "cell_type": "code",
      "source": [
        "'''14. Create a class Product with attributes name, price, and quantity. Implement a method total_price() that\n",
        "calculates the total price of the product\n",
        "->'''\n",
        "class Product:\n",
        "    def __init__(self, name, price, quantity):\n",
        "        self.name = name\n",
        "        self.price = price\n",
        "        self.quantity = quantity\n",
        "\n",
        "    def total_price(self):\n",
        "        return self.price * self.quantity\n",
        "\n",
        "# Example usage\n",
        "product = Product(\"Laptop\", 50000, 2)\n",
        "print(f\"Total Price: {product.total_price()}\")\n"
      ],
      "metadata": {
        "colab": {
          "base_uri": "https://localhost:8080/"
        },
        "id": "eAarg74LMeTM",
        "outputId": "56cbaa5d-a36a-4340-897b-c1dc964b1f32"
      },
      "execution_count": 37,
      "outputs": [
        {
          "output_type": "stream",
          "name": "stdout",
          "text": [
            "Total Price: 100000\n"
          ]
        }
      ]
    },
    {
      "cell_type": "code",
      "source": [
        "'''15. Create a class Animal with an abstract method sound(). Create two derived classes Cow and Sheep that\n",
        "implement the sound() method\n",
        "->'''\n",
        "from abc import ABC, abstractmethod\n",
        "\n",
        "# Abstract class\n",
        "class Animal(ABC):\n",
        "    @abstractmethod\n",
        "    def sound(self):\n",
        "        pass\n",
        "\n",
        "# Derived class: Cow\n",
        "class Cow(Animal):\n",
        "    def sound(self):\n",
        "        return \"Moo\"\n",
        "\n",
        "# Derived class: Sheep\n",
        "class Sheep(Animal):\n",
        "    def sound(self):\n",
        "        return \"Baa\"\n",
        "\n",
        "# Example usage\n",
        "cow = Cow()\n",
        "sheep = Sheep()\n",
        "\n",
        "print(\"Cow sound:\", cow.sound())\n",
        "print(\"Sheep sound:\", sheep.sound())\n"
      ],
      "metadata": {
        "colab": {
          "base_uri": "https://localhost:8080/"
        },
        "id": "EEaMIvrOMu0M",
        "outputId": "d157b693-0135-4e74-87c5-8e1568c3e80d"
      },
      "execution_count": 38,
      "outputs": [
        {
          "output_type": "stream",
          "name": "stdout",
          "text": [
            "Cow sound: Moo\n",
            "Sheep sound: Baa\n"
          ]
        }
      ]
    },
    {
      "cell_type": "code",
      "source": [
        "'''16. Create a class Book with attributes title, author, and year_published. Add a method get_book_info() that\n",
        "returns a formatted string with the book's details\n",
        "->'''\n",
        "class Book:\n",
        "    def __init__(self, title, author, year_published):\n",
        "        self.title = title\n",
        "        self.author = author\n",
        "        self.year_published = year_published\n",
        "\n",
        "    def get_book_info(self):\n",
        "        return f\"'{self.title}' by {self.author}, published in {self.year_published}.\"\n",
        "\n",
        "# Example usage\n",
        "book = Book(\"To Kill a Mockingbird\", \"Harper Lee\", 1960)\n",
        "print(book.get_book_info())\n"
      ],
      "metadata": {
        "colab": {
          "base_uri": "https://localhost:8080/"
        },
        "id": "uqBqQfDwNIq5",
        "outputId": "4b3defce-c24b-49c7-cdc9-fcfb88d63501"
      },
      "execution_count": 39,
      "outputs": [
        {
          "output_type": "stream",
          "name": "stdout",
          "text": [
            "'To Kill a Mockingbird' by Harper Lee, published in 1960.\n"
          ]
        }
      ]
    },
    {
      "cell_type": "code",
      "source": [
        "'''17. Create a class House with attributes address and price. Create a derived class Mansion that adds an\n",
        "attribute number_of_rooms\n",
        "->'''\n",
        "# Parent Class\n",
        "class House:\n",
        "    def __init__(self, address, price):\n",
        "        self.address = address\n",
        "        self.price = price\n",
        "\n",
        "# Derived Class\n",
        "class Mansion(House):\n",
        "    def __init__(self, address, price, number_of_rooms):\n",
        "        super().__init__(address, price)\n",
        "        self.number_of_rooms = number_of_rooms\n",
        "\n",
        "# Example usage\n",
        "mansion = Mansion(\"123 Luxury Lane\", 50000000, 15)\n",
        "print(f\"Address: {mansion.address}\")\n",
        "print(f\"Price: ₹{mansion.price}\")\n",
        "print(f\"Number of rooms: {mansion.number_of_rooms}\")\n"
      ],
      "metadata": {
        "colab": {
          "base_uri": "https://localhost:8080/"
        },
        "id": "kSZIgT2aNU6C",
        "outputId": "45145416-5dcd-4d04-c826-1c53b1e811d1"
      },
      "execution_count": 41,
      "outputs": [
        {
          "output_type": "stream",
          "name": "stdout",
          "text": [
            "Address: 123 Luxury Lane\n",
            "Price: ₹50000000\n",
            "Number of rooms: 15\n"
          ]
        }
      ]
    }
  ]
}